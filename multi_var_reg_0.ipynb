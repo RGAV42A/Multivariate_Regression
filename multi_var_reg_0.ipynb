{
 "cells": [
  {
   "cell_type": "code",
   "execution_count": 5,
   "metadata": {
    "collapsed": false
   },
   "outputs": [
    {
     "name": "stdout",
     "output_type": "stream",
     "text": [
      "      CRIM    ZN  INDUS  CHAS    NOX     RM   AGE     DIS  RAD    TAX  \\\n",
      "0  0.00632  18.0   2.31     0  0.538  6.575  65.2  4.0900    1  296.0   \n",
      "1  0.02731   0.0   7.07     0  0.469  6.421  78.9  4.9671    2  242.0   \n",
      "2  0.02729   0.0   7.07     0  0.469  7.185  61.1  4.9671    2  242.0   \n",
      "3  0.03237   0.0   2.18     0  0.458  6.998  45.8  6.0622    3  222.0   \n",
      "4  0.06905   0.0   2.18     0  0.458  7.147  54.2  6.0622    3  222.0   \n",
      "\n",
      "   PTRATIO       B  LSTAT  MEDV  \n",
      "0     15.3  396.90   4.98  24.0  \n",
      "1     17.8  396.90   9.14  21.6  \n",
      "2     17.8  392.83   4.03  34.7  \n",
      "3     18.7  394.63   2.94  33.4  \n",
      "4     18.7  396.90   5.33  36.2  \n",
      "\n",
      "any duplicates: False\n",
      "\n",
      "list all duplicate rows: Empty DataFrame\n",
      "Columns: [CRIM, ZN, INDUS, CHAS, NOX, RM, AGE, DIS, RAD, TAX, PTRATIO, B, LSTAT, MEDV]\n",
      "Index: []\n",
      "\n",
      "number of unique values in each column: CRIM       504\n",
      "ZN          26\n",
      "INDUS       76\n",
      "CHAS         2\n",
      "NOX         81\n",
      "RM         446\n",
      "AGE        356\n",
      "DIS        412\n",
      "RAD          9\n",
      "TAX         66\n",
      "PTRATIO     46\n",
      "B          357\n",
      "LSTAT      455\n",
      "dtype: int64\n",
      "CRIM, 504, 99.60474308300395%\n",
      "ZN, 26, 5.138339920948617%\n",
      "INDUS, 76, 15.019762845849801%\n",
      "CHAS, 2, 0.3952569169960474%\n",
      "NOX, 81, 16.007905138339922%\n",
      "RM, 446, 88.14229249011858%\n",
      "AGE, 356, 70.35573122529645%\n",
      "DIS, 412, 81.42292490118577%\n",
      "RAD, 9, 1.7786561264822136%\n",
      "TAX, 66, 13.043478260869565%\n",
      "PTRATIO, 46, 9.090909090909092%\n",
      "B, 357, 70.55335968379447%\n",
      "LSTAT, 455, 89.9209486166008%\n"
     ]
    }
   ],
   "source": [
    "## sample analysis with BostonHausing data set\n",
    "\n",
    "import pandas as pd\n",
    "import numpy as np\n",
    "\n",
    "##### READ DATA\n",
    "\n",
    "df=pd.read_csv('BostonHausing.csv')\n",
    "print(df.head())\n",
    "\n",
    "# calculate duplicates\n",
    "dups = df.duplicated()\n",
    "# report if there are any duplicates\n",
    "print('\\nany duplicates:',dups.any())\n",
    "# list all duplicate rows\n",
    "print('\\nlist all duplicate rows:',df[dups])\n",
    "\n",
    "# summarize the number of unique values in each column\n",
    "list_test = ['CRIM','ZN','INDUS','CHAS','NOX','RM','AGE','DIS','RAD','TAX','PTRATIO','B','LSTAT']\n",
    "print('\\nnumber of unique values in each column:',df[list_test].nunique())\n",
    "\n",
    "# summarize the number of unique values in each column\n",
    "for ix in list_test:\n",
    "    num = len(np.unique(df[ix]))\n",
    "    percentage = float(num) / df.shape[0] * 100\n",
    "    print('{}, {}, {}%'.format(ix, num, percentage))\n",
    "\n",
    "    \n",
    "# the variance threshold for feature selection\n",
    "print('variance threshold for feature selection before:', df[list_test].shape)\n",
    "# define the transform\n",
    "transform = VarianceThreshold()\n",
    "# transform the input data\n",
    "X_sel = transform.fit_transform(df[list_test])\n",
    "print('\\nvariance threshold for feature selection after\\n',X_sel.shape)"
   ]
  },
  {
   "cell_type": "code",
   "execution_count": null,
   "metadata": {
    "collapsed": true
   },
   "outputs": [],
   "source": []
  }
 ],
 "metadata": {
  "kernelspec": {
   "display_name": "Python 3.6",
   "language": "python",
   "name": "python3.6"
  },
  "language_info": {
   "codemirror_mode": {
    "name": "ipython",
    "version": 3
   },
   "file_extension": ".py",
   "mimetype": "text/x-python",
   "name": "python",
   "nbconvert_exporter": "python",
   "pygments_lexer": "ipython3",
   "version": "3.6.6"
  }
 },
 "nbformat": 4,
 "nbformat_minor": 0
}
